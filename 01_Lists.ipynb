{
  "nbformat": 4,
  "nbformat_minor": 0,
  "metadata": {
    "colab": {
      "provenance": [],
      "authorship_tag": "ABX9TyN4ql8u3gwHNzo9r1sBdevy",
      "include_colab_link": true
    },
    "kernelspec": {
      "name": "python3",
      "display_name": "Python 3"
    },
    "language_info": {
      "name": "python"
    }
  },
  "cells": [
    {
      "cell_type": "markdown",
      "metadata": {
        "id": "view-in-github",
        "colab_type": "text"
      },
      "source": [
        "<a href=\"https://colab.research.google.com/github/Riley-Hoang/3603-Programming-for-Data-Science/blob/main/01_Lists.ipynb\" target=\"_parent\"><img src=\"https://colab.research.google.com/assets/colab-badge.svg\" alt=\"Open In Colab\"/></a>"
      ]
    },
    {
      "cell_type": "code",
      "execution_count": 1,
      "metadata": {
        "colab": {
          "base_uri": "https://localhost:8080/"
        },
        "id": "rgkNveyO5wb2",
        "outputId": "f4f029d1-d945-41ee-f7a8-39cd274498a6"
      },
      "outputs": [
        {
          "output_type": "stream",
          "name": "stdout",
          "text": [
            "This is my movie list:\n",
            "Avengers\n",
            "Inception\n",
            "Interstllar\n",
            "Shutter Island\n",
            "The Dark Knight\n"
          ]
        }
      ],
      "source": [
        "# Movie List\n",
        "movies = [\"Inception\", \"The Dark Knight\", \"Interstllar\", \"Avengers\", \"Shutter Island\" ]\n",
        "\n",
        "# Arrange List\n",
        "movies.sort()\n",
        "\n",
        "print(\"This is my movie list:\")\n",
        "for movie in movies:\n",
        "    print(movie)"
      ]
    }
  ]
}