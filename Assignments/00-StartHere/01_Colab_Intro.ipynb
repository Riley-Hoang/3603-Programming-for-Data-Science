{
  "nbformat": 4,
  "nbformat_minor": 0,
  "metadata": {
    "colab": {
      "provenance": []
    },
    "kernelspec": {
      "name": "python3",
      "display_name": "Python 3"
    },
    "language_info": {
      "name": "python"
    }
  },
  "cells": [
    {
      "cell_type": "code",
      "execution_count": 1,
      "metadata": {
        "colab": {
          "base_uri": "https://localhost:8080/"
        },
        "id": "D97PLJUIbIn4",
        "outputId": "e8b4f1b8-9088-4902-d5ed-bc7d6cc85d0f"
      },
      "outputs": [
        {
          "output_type": "stream",
          "name": "stdout",
          "text": [
            "Nguyen Ngoc Hoang\n"
          ]
        }
      ],
      "source": [
        "print('Nguyen Ngoc Hoang')"
      ]
    }
  ]
}