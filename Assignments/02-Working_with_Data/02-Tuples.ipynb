{
  "nbformat": 4,
  "nbformat_minor": 0,
  "metadata": {
    "colab": {
      "provenance": [],
      "authorship_tag": "ABX9TyOjqrNPkbYzYNTNsW4mIkaA",
      "include_colab_link": true
    },
    "kernelspec": {
      "name": "python3",
      "display_name": "Python 3"
    },
    "language_info": {
      "name": "python"
    }
  },
  "cells": [
    {
      "cell_type": "markdown",
      "metadata": {
        "id": "view-in-github",
        "colab_type": "text"
      },
      "source": [
        "<a href=\"https://colab.research.google.com/github/Riley-Hoang/3603-Programming-for-Data-Science/blob/main/Assignments/02-Working_with_Data/02-Tuples.ipynb\" target=\"_parent\"><img src=\"https://colab.research.google.com/assets/colab-badge.svg\" alt=\"Open In Colab\"/></a>"
      ]
    },
    {
      "cell_type": "code",
      "execution_count": 4,
      "metadata": {
        "colab": {
          "base_uri": "https://localhost:8080/"
        },
        "id": "ht5sIddj9Nxj",
        "outputId": "ca94bf9c-de41-49de-f706-39beb8a3fa9e"
      },
      "outputs": [
        {
          "output_type": "stream",
          "name": "stdout",
          "text": [
            "My birthday is on:  (12, 6, 2002)\n",
            "Birthday: 12/6/2002\n",
            "Month:  12\n",
            "Days:  6\n",
            "Year:  2002\n"
          ]
        }
      ],
      "source": [
        "# Birthday_Tuple (Immutable - can not change)\n",
        "birthday_tuple = (12, 6, 2002) #(Month, Days, Year)\n",
        "print(\"My birthday is on: \", birthday_tuple)\n",
        "\n",
        "# Access by unpacking\n",
        "Month, Days, Year = birthday_tuple\n",
        "print(f\"Birthday: {Month}/{Days}/{Year}\")\n",
        "print(\"Month: \", Month)\n",
        "print(\"Days: \", Days)\n",
        "print(\"Year: \", Year)\n",
        "\n"
      ]
    }
  ]
}