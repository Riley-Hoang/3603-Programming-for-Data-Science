{
  "nbformat": 4,
  "nbformat_minor": 0,
  "metadata": {
    "colab": {
      "provenance": [],
      "authorship_tag": "ABX9TyM5jrbDSlZ76nvn5328ljBY",
      "include_colab_link": true
    },
    "kernelspec": {
      "name": "python3",
      "display_name": "Python 3"
    },
    "language_info": {
      "name": "python"
    }
  },
  "cells": [
    {
      "cell_type": "markdown",
      "metadata": {
        "id": "view-in-github",
        "colab_type": "text"
      },
      "source": [
        "<a href=\"https://colab.research.google.com/github/Riley-Hoang/3603-Programming-for-Data-Science/blob/main/Assignments/02-Working_with_Data/03_Data_Types_and_Arithmetic.ipynb\" target=\"_parent\"><img src=\"https://colab.research.google.com/assets/colab-badge.svg\" alt=\"Open In Colab\"/></a>"
      ]
    },
    {
      "cell_type": "code",
      "execution_count": 2,
      "metadata": {
        "colab": {
          "base_uri": "https://localhost:8080/"
        },
        "id": "JGEJ19v8DDW9",
        "outputId": "78466f52-4485-41f0-950d-5f6e5557e1b1"
      },
      "outputs": [
        {
          "output_type": "stream",
          "name": "stdout",
          "text": [
            "<class 'int'> <class 'float'> <class 'str'> <class 'bool'>\n",
            "Add 30.2\n",
            "Subtract -0.1999999999999993\n",
            "Multiply 228.0\n",
            "Divide 0.986842105263158\n",
            "Power 7.526397260486884e+17\n",
            "Floor Divide 0.0\n",
            "I am learning Python and my favourite number is 15.\n",
            "What is your name? Riley\n",
            "Hello, Riley!\n",
            "How old are you? 22\n",
            "You are 22 years old.\n",
            "Welcome, Riley !\n",
            "Next year, you will be 23 years old.\n"
          ]
        }
      ],
      "source": [
        "# 03 - Data Types and Arithmetic\n",
        "# Nguyen Ngoc Hoang\n",
        "\n",
        "# Variables and Types\n",
        "a = 15                  # integers\n",
        "b = 15.2                 # float\n",
        "c = \"Python\"            # string\n",
        "d = True                # boolean\n",
        "\n",
        "print(type(a), type(b), type(c), type(d)) # check type of data\n",
        "\n",
        "# Perform arithmetic operations\n",
        "print(\"Add\", a + b)\n",
        "print(\"Subtract\", a - b)\n",
        "print(\"Multiply\", a * b)\n",
        "print(\"Divide\", a / b)\n",
        "print(\"Power\", a ** b)\n",
        "print(\"Floor Divide\", a//b)\n",
        "\n",
        "# Combine numbers and strings (using f-string)\n",
        "print (f\"I am learning {c} and my favourite number is {a}.\")\n",
        "\n",
        "# Use input to interact with the user\n",
        "name = input(\"What is your name? \")\n",
        "print(f\"Hello, {name}!\")\n",
        "age = input(\"How old are you? \")\n",
        "print(f\"You are {age} years old.\")\n",
        "\n",
        "print(\"Welcome,\", name, \"!\")\n",
        "print(\"Next year, you will be\", int(age) + 1, \"years old.\")"
      ]
    }
  ]
}