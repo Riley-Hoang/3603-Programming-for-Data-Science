{
  "nbformat": 4,
  "nbformat_minor": 0,
  "metadata": {
    "colab": {
      "provenance": []
    },
    "kernelspec": {
      "name": "python3",
      "display_name": "Python 3"
    },
    "language_info": {
      "name": "python"
    }
  },
  "cells": [
    {
      "cell_type": "code",
      "execution_count": 1,
      "metadata": {
        "colab": {
          "base_uri": "https://localhost:8080/"
        },
        "id": "6_AdZyJMeu0j",
        "outputId": "58122721-4ed9-46f5-afce-5dee1d109fb8"
      },
      "outputs": [
        {
          "output_type": "stream",
          "name": "stdout",
          "text": [
            "Count: 1\n",
            "Count: 2\n",
            "Count: 3\n",
            "Count: 4\n",
            "Count: 5\n"
          ]
        }
      ],
      "source": [
        "# Count up to 5\n",
        "counter = 1\n",
        "while counter <= 5:\n",
        "  print('Count:', counter)\n",
        "  counter += 1"
      ]
    },
    {
      "cell_type": "code",
      "source": [
        "# Avoid infinite Loop\n",
        "x = 0\n",
        "while x < 3:\n",
        "  print('x is', x)\n",
        "  x += 1"
      ],
      "metadata": {
        "colab": {
          "base_uri": "https://localhost:8080/"
        },
        "id": "ljhFWO4SfEHA",
        "outputId": "ef4bcad9-c9bd-4fa1-e77c-95daac3b4c5b"
      },
      "execution_count": 2,
      "outputs": [
        {
          "output_type": "stream",
          "name": "stdout",
          "text": [
            "x is 0\n",
            "x is 1\n",
            "x is 2\n"
          ]
        }
      ]
    },
    {
      "cell_type": "code",
      "source": [
        "# Break and continue\n",
        "n = 0\n",
        "while True:\n",
        "  n += 1\n",
        "  if n == 3:\n",
        "    continue\n",
        "  if n == 6:\n",
        "    break\n",
        "  print(n)"
      ],
      "metadata": {
        "colab": {
          "base_uri": "https://localhost:8080/"
        },
        "id": "LbPJWGenfcme",
        "outputId": "74ad3f96-de79-48dc-bf81-9fbe8657f6c1"
      },
      "execution_count": 3,
      "outputs": [
        {
          "output_type": "stream",
          "name": "stdout",
          "text": [
            "1\n",
            "2\n",
            "4\n",
            "5\n"
          ]
        }
      ]
    },
    {
      "cell_type": "code",
      "source": [
        "# Start from 10\n",
        "num = 10\n",
        "\n",
        "# Loop until num > 0\n",
        "while num >= 1:\n",
        "  print(num)\n",
        "  num -= 1"
      ],
      "metadata": {
        "colab": {
          "base_uri": "https://localhost:8080/"
        },
        "id": "mAKpGxvAfzhA",
        "outputId": "f2d4d667-fef2-44dc-a73f-218715f3b4bf"
      },
      "execution_count": 4,
      "outputs": [
        {
          "output_type": "stream",
          "name": "stdout",
          "text": [
            "10\n",
            "9\n",
            "8\n",
            "7\n",
            "6\n",
            "5\n",
            "4\n",
            "3\n",
            "2\n",
            "1\n"
          ]
        }
      ]
    }
  ]
}