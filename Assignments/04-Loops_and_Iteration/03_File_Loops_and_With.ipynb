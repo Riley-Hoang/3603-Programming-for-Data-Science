{
  "nbformat": 4,
  "nbformat_minor": 0,
  "metadata": {
    "colab": {
      "provenance": []
    },
    "kernelspec": {
      "name": "python3",
      "display_name": "Python 3"
    },
    "language_info": {
      "name": "python"
    }
  },
  "cells": [
    {
      "cell_type": "code",
      "source": [
        "# Sample file read\n",
        "with open('sample.txt', 'r') as file:\n",
        "    for line in file:\n",
        "        print(line.strip())\n",
        ""
      ],
      "metadata": {
        "id": "6zMxB2gtkKo-"
      },
      "execution_count": null,
      "outputs": []
    },
    {
      "cell_type": "code",
      "source": [
        "# Process each line\n",
        "with open('sample.txt', 'r') as f:\n",
        "    for line in f:\n",
        "        parts = line.strip().split(',')\n",
        "        print('Parts:', parts)\n",
        ""
      ],
      "metadata": {
        "id": "62_frrfVkTqx"
      },
      "execution_count": null,
      "outputs": []
    },
    {
      "cell_type": "code",
      "source": [
        "# Open file and print\n",
        "with open('myfile.txt', 'r') as file:\n",
        "    for line in file:\n",
        "        if len(line.split()) > 3:\n",
        "            print(line.strip())"
      ],
      "metadata": {
        "id": "9uKJPFo2kYU3"
      },
      "execution_count": null,
      "outputs": []
    }
  ]
}