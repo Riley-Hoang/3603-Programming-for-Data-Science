{
  "nbformat": 4,
  "nbformat_minor": 0,
  "metadata": {
    "colab": {
      "provenance": []
    },
    "kernelspec": {
      "name": "python3",
      "display_name": "Python 3"
    },
    "language_info": {
      "name": "python"
    }
  },
  "cells": [
    {
      "cell_type": "code",
      "execution_count": 1,
      "metadata": {
        "colab": {
          "base_uri": "https://localhost:8080/"
        },
        "id": "Rj93nZq506li",
        "outputId": "dc9f30e5-eb94-49da-dcdc-9adf628024c1"
      },
      "outputs": [
        {
          "output_type": "stream",
          "name": "stdout",
          "text": [
            "<class 'int'>\n",
            "<class 'float'>\n",
            "<class 'str'>\n",
            "<class 'bool'>\n"
          ]
        }
      ],
      "source": [
        "# Define some variables\n",
        "num = 42\n",
        "pi = 3.14159\n",
        "name = 'Python'\n",
        "is_cool = True\n",
        "\n",
        "print(type(num))\n",
        "print(type(pi))\n",
        "print(type(name))\n",
        "print(type(is_cool))\n",
        "\n"
      ]
    },
    {
      "cell_type": "code",
      "source": [
        "# Define some variables\n",
        "age = 22                  #int\n",
        "height = 1.75             #float\n",
        "language = \"English\"      #str\n",
        "is_married = False        #bool\n",
        "\n",
        "print(type(age))\n",
        "print(type(height))\n",
        "print(type(language))\n",
        "print(type(is_married))"
      ],
      "metadata": {
        "colab": {
          "base_uri": "https://localhost:8080/"
        },
        "id": "zCVvMQtH1UiL",
        "outputId": "4e49a249-3b86-4ffe-dd7a-bdccab4b2522"
      },
      "execution_count": 2,
      "outputs": [
        {
          "output_type": "stream",
          "name": "stdout",
          "text": [
            "<class 'int'>\n",
            "<class 'float'>\n",
            "<class 'str'>\n",
            "<class 'bool'>\n"
          ]
        }
      ]
    }
  ]
}