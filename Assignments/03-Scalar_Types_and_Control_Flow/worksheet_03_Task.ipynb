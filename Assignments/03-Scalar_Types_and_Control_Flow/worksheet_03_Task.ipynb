{
  "nbformat": 4,
  "nbformat_minor": 0,
  "metadata": {
    "colab": {
      "provenance": []
    },
    "kernelspec": {
      "name": "python3",
      "display_name": "Python 3"
    },
    "language_info": {
      "name": "python"
    }
  },
  "cells": [
    {
      "cell_type": "code",
      "execution_count": 1,
      "metadata": {
        "colab": {
          "base_uri": "https://localhost:8080/"
        },
        "id": "b6o_jZBdDhog",
        "outputId": "f795eaee-b917-4a5c-bd28-643675f4208c"
      },
      "outputs": [
        {
          "output_type": "stream",
          "name": "stdout",
          "text": [
            "What's the weather like? raining\n",
            "Take an umbrella\n"
          ]
        }
      ],
      "source": [
        "weather = input(\"What's the weather like? \").lower()\n",
        "\n",
        "if weather == \"sunny\":\n",
        "    print(\"Bring sunscreen\")\n",
        "elif weather == \"raining\":\n",
        "    print(\"Take an umbrella\")\n",
        "else:\n",
        "    print(\"Check the forecast\")\n"
      ]
    }
  ]
}