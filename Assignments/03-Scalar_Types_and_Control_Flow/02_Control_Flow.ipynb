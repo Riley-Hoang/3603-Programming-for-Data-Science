{
  "nbformat": 4,
  "nbformat_minor": 0,
  "metadata": {
    "colab": {
      "provenance": []
    },
    "kernelspec": {
      "name": "python3",
      "display_name": "Python 3"
    },
    "language_info": {
      "name": "python"
    }
  },
  "cells": [
    {
      "cell_type": "code",
      "execution_count": 1,
      "metadata": {
        "colab": {
          "base_uri": "https://localhost:8080/"
        },
        "id": "kCtEFlXl5sqC",
        "outputId": "ad155c2d-2217-4747-d019-08991e12bcc9"
      },
      "outputs": [
        {
          "output_type": "stream",
          "name": "stdout",
          "text": [
            "You are an adult.\n"
          ]
        }
      ],
      "source": [
        "# 🔧 Basic example\n",
        "age = 20\n",
        "if age >= 18:\n",
        "    print('You are an adult.')\n",
        "else:\n",
        "    print('You are a minor.')"
      ]
    },
    {
      "cell_type": "code",
      "source": [
        "temp = 72\n",
        "if temp > 90:\n",
        "    print('Too hot!')\n",
        "elif temp < 60:\n",
        "    print('Too cold!')\n",
        "else:\n",
        "    print('Just right.')"
      ],
      "metadata": {
        "colab": {
          "base_uri": "https://localhost:8080/"
        },
        "id": "Z-cPeso06cer",
        "outputId": "e5232c0b-fcb0-405d-a00a-0bd92bc5f8ab"
      },
      "execution_count": 2,
      "outputs": [
        {
          "output_type": "stream",
          "name": "stdout",
          "text": [
            "Just right.\n"
          ]
        }
      ]
    },
    {
      "cell_type": "code",
      "source": [
        "grade = int(input(\"Enter your score: \"))\n",
        "\n",
        "if grade >= 90:\n",
        "    print(\"A – Excellent!\")\n",
        "elif grade >= 80:\n",
        "    print(\"B – Good job!\")\n",
        "elif grade >= 70:\n",
        "    print(\"C – Keep working!\")\n",
        "elif grade >= 60:\n",
        "    print(\"D – You passed, but study more!\")\n",
        "else:\n",
        "    print(\"F – Try again next time.\")"
      ],
      "metadata": {
        "colab": {
          "base_uri": "https://localhost:8080/"
        },
        "id": "zrM8K-T56h7n",
        "outputId": "a67760dd-e5e3-4446-ca05-4f176f40d6bf"
      },
      "execution_count": 3,
      "outputs": [
        {
          "output_type": "stream",
          "name": "stdout",
          "text": [
            "Enter your score: 85\n",
            "B – Good job!\n"
          ]
        }
      ]
    }
  ]
}